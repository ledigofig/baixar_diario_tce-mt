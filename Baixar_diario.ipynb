{
 "cells": [
  {
   "cell_type": "code",
   "execution_count": 1,
   "metadata": {},
   "outputs": [],
   "source": [
    "import requests\n",
    "#import time\n",
    "from bs4 import BeautifulSoup\n",
    "import re"
   ]
  },
  {
   "cell_type": "code",
   "execution_count": 2,
   "metadata": {},
   "outputs": [
    {
     "name": "stdout",
     "output_type": "stream",
     "text": [
      " informe a ultima públicação que vocẽ viu? \n",
      ">>>1\n"
     ]
    }
   ],
   "source": [
    "ultima_publi_acesso = int(input(\" informe a ultima públicação que vocẽ viu? \\n>>> \"))"
   ]
  },
  {
   "cell_type": "code",
   "execution_count": 3,
   "metadata": {},
   "outputs": [
    {
     "name": "stdout",
     "output_type": "stream",
     "text": [
      " informe a ultima públicação de diario que TCE-MT fez \n",
      ">>>3\n"
     ]
    }
   ],
   "source": [
    "ultima_publi_tce = int(input(\" informe a ultima públicação de diario que TCE-MT fez \\n>>> \"))"
   ]
  },
  {
   "cell_type": "code",
   "execution_count": 4,
   "metadata": {},
   "outputs": [
    {
     "name": "stdout",
     "output_type": "stream",
     "text": [
      "Diario_TCE 1\n",
      "Diario_TCE 2\n",
      "Diario_TCE 3\n"
     ]
    }
   ],
   "source": [
    "for indice in range(ultima_publi_acesso, (ultima_publi_tce + 1)): # adcionei = 1 pos o python começa pelo numero zero\n",
    "    resposta = requests.get(f'https://www.tce.mt.gov.br/diario/preview/numero_diario_oficial/{indice}')\n",
    "    # faz requisição ao site para pegar dados de numero do diario mes e ano que foi publicado\n",
    "    soup_pdf_tce = BeautifulSoup(resposta.content, 'html.parser')\n",
    "    variavel = soup_pdf_tce.find(id=\"outerContainer\")\n",
    "    \n",
    "    # Pegar o Mes\n",
    "    extrair_mes = re.compile('value=\"(.*?)\"').search(str(variavel))\n",
    "    mes = extrair_mes.group(1)\n",
    "    \n",
    "    #Pega ano da publicação com Regex\n",
    "    extrair_ano= re.compile('name=\"ano\" type=\"hidden\" value=\"(.*?)\"').search(str(variavel))\n",
    "    ano = extrair_ano.group(1)\n",
    "    \n",
    "    # pega os numero da públicação com Regex\n",
    "    extrair_numero_diario= re.compile('id=\"numero\" name=\"numero\" type=\"hidden\" value=\"(.*?)\"').search(str(variavel))\n",
    "    numero_diario = extrair_numero_diario.group(1)\n",
    "    \n",
    "    \n",
    "    #pega o ano mes e numero do diario e faz a requisição \n",
    "    resposta_diario_pdf = requests.get(f'https://www.tce.mt.gov.br/uploads/doe/{ano}/{mes}/{numero_diario}/diario_oficial_eletronico_{numero_diario}.pdf')\n",
    "    \n",
    "    #abre arquivo para escrever em pdf\n",
    "    with open(f'Diario_TCE{indice}.pdf', 'wb') as pdf_tce:\n",
    "        pdf_tce.write(resposta_diario_pdf.content)\n",
    "        \n",
    "    print(f'Diario_TCE {indice}')"
   ]
  },
  {
   "cell_type": "markdown",
   "metadata": {},
   "source": [
    "Fonte :\n",
    "   * https://pt.stackoverflow.com/questions/299866/obter-value-de-input\n",
    "   * https://docs.python.org/pt-br/3.8/howto/regex.html#match-versus-search\n",
    "    "
   ]
  },
  {
   "cell_type": "markdown",
   "metadata": {},
   "source": [
    "### Melhorias de codigo\n",
    "* Usar uma função para requisiços iguais"
   ]
  },
  {
   "cell_type": "code",
   "execution_count": null,
   "metadata": {},
   "outputs": [],
   "source": []
  }
 ],
 "metadata": {
  "kernelspec": {
   "display_name": "Python 3",
   "language": "python",
   "name": "python3"
  },
  "language_info": {
   "codemirror_mode": {
    "name": "ipython",
    "version": 3
   },
   "file_extension": ".py",
   "mimetype": "text/x-python",
   "name": "python",
   "nbconvert_exporter": "python",
   "pygments_lexer": "ipython3",
   "version": "3.7.6"
  }
 },
 "nbformat": 4,
 "nbformat_minor": 4
}
