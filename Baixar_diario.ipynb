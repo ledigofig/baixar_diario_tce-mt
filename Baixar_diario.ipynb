{
 "cells": [
  {
   "cell_type": "code",
   "execution_count": 116,
   "metadata": {},
   "outputs": [],
   "source": [
    "import requests\n",
    "#import time\n",
    "from bs4 import BeautifulSoup\n",
    "import re"
   ]
  },
  {
   "cell_type": "code",
   "execution_count": 185,
   "metadata": {},
   "outputs": [
    {
     "name": "stdout",
     "output_type": "stream",
     "text": [
      " informe a ultima públicação que vocẽ viu? \n",
      ">>>1600\n"
     ]
    }
   ],
   "source": [
    "ultima_publi_acesso = int(input(\" informe a ultima públicação que vocẽ viu? \\n>>>\"))"
   ]
  },
  {
   "cell_type": "code",
   "execution_count": 187,
   "metadata": {},
   "outputs": [
    {
     "name": "stdout",
     "output_type": "stream",
     "text": [
      " informe a ultima públicação de diario que TCE-MT fez \n",
      ">>>1700\n"
     ]
    }
   ],
   "source": [
    "ultima_publi_tce = int(input(\" informe a ultima públicação de diario que TCE-MT fez \\n>>>\"))"
   ]
  },
  {
   "cell_type": "code",
   "execution_count": 23,
   "metadata": {},
   "outputs": [
    {
     "name": "stdout",
     "output_type": "stream",
     "text": [
      "Diario_TCE 1968\n",
      "Diario_TCE 1969\n",
      "Diario_TCE 1970\n",
      "Diario_TCE 1971\n"
     ]
    }
   ],
   "source": [
    "for indice in range(ultima_publi_acesso, (ultima_publi_tce + 1)):\n",
    "    resposta = requests.get(f'https://www.tce.mt.gov.br/uploads/doe/2020/08/{indice}/diario_oficial_eletronico_{indice}.pdf')\n",
    "    with open(f'Diario_TCE {indice}', 'wb') as pdf_tce:\n",
    "        pdf_tce.write(resposta.content)\n",
    "        \n",
    "    print(f'Diario_TCE {indice}')"
   ]
  },
  {
   "cell_type": "code",
   "execution_count": 188,
   "metadata": {},
   "outputs": [
    {
     "name": "stdout",
     "output_type": "stream",
     "text": [
      "Diario_TCE 1600\n",
      "Diario_TCE 1601\n",
      "Diario_TCE 1602\n",
      "Diario_TCE 1603\n",
      "Diario_TCE 1604\n",
      "Diario_TCE 1605\n",
      "Diario_TCE 1606\n",
      "Diario_TCE 1607\n",
      "Diario_TCE 1608\n",
      "Diario_TCE 1609\n",
      "Diario_TCE 1610\n",
      "Diario_TCE 1611\n"
     ]
    },
    {
     "ename": "KeyboardInterrupt",
     "evalue": "",
     "output_type": "error",
     "traceback": [
      "\u001b[0;31m---------------------------------------------------------------------------\u001b[0m",
      "\u001b[0;31mKeyboardInterrupt\u001b[0m                         Traceback (most recent call last)",
      "\u001b[0;32m<ipython-input-188-ee57c77abbd3>\u001b[0m in \u001b[0;36m<module>\u001b[0;34m\u001b[0m\n\u001b[1;32m     14\u001b[0m     \u001b[0mnumero_diario\u001b[0m \u001b[0;34m=\u001b[0m \u001b[0mextrair_numero_diario\u001b[0m\u001b[0;34m.\u001b[0m\u001b[0mgroup\u001b[0m\u001b[0;34m(\u001b[0m\u001b[0;36m1\u001b[0m\u001b[0;34m)\u001b[0m\u001b[0;34m\u001b[0m\u001b[0;34m\u001b[0m\u001b[0m\n\u001b[1;32m     15\u001b[0m \u001b[0;34m\u001b[0m\u001b[0m\n\u001b[0;32m---> 16\u001b[0;31m     \u001b[0mresposta_diario_pdf\u001b[0m \u001b[0;34m=\u001b[0m \u001b[0mrequests\u001b[0m\u001b[0;34m.\u001b[0m\u001b[0mget\u001b[0m\u001b[0;34m(\u001b[0m\u001b[0;34mf'https://www.tce.mt.gov.br/uploads/doe/{ano}/{mes}/{numero_diario}/diario_oficial_eletronico_{numero_diario}.pdf'\u001b[0m\u001b[0;34m)\u001b[0m\u001b[0;34m\u001b[0m\u001b[0;34m\u001b[0m\u001b[0m\n\u001b[0m\u001b[1;32m     17\u001b[0m \u001b[0;34m\u001b[0m\u001b[0m\n\u001b[1;32m     18\u001b[0m     \u001b[0;32mwith\u001b[0m \u001b[0mopen\u001b[0m\u001b[0;34m(\u001b[0m\u001b[0;34mf'Diario_TCE 2 {indice}'\u001b[0m\u001b[0;34m,\u001b[0m \u001b[0;34m'wb'\u001b[0m\u001b[0;34m)\u001b[0m \u001b[0;32mas\u001b[0m \u001b[0mpdf_tce\u001b[0m\u001b[0;34m:\u001b[0m\u001b[0;34m\u001b[0m\u001b[0;34m\u001b[0m\u001b[0m\n",
      "\u001b[0;32m~/anaconda3/lib/python3.7/site-packages/requests/api.py\u001b[0m in \u001b[0;36mget\u001b[0;34m(url, params, **kwargs)\u001b[0m\n\u001b[1;32m     73\u001b[0m \u001b[0;34m\u001b[0m\u001b[0m\n\u001b[1;32m     74\u001b[0m     \u001b[0mkwargs\u001b[0m\u001b[0;34m.\u001b[0m\u001b[0msetdefault\u001b[0m\u001b[0;34m(\u001b[0m\u001b[0;34m'allow_redirects'\u001b[0m\u001b[0;34m,\u001b[0m \u001b[0;32mTrue\u001b[0m\u001b[0;34m)\u001b[0m\u001b[0;34m\u001b[0m\u001b[0;34m\u001b[0m\u001b[0m\n\u001b[0;32m---> 75\u001b[0;31m     \u001b[0;32mreturn\u001b[0m \u001b[0mrequest\u001b[0m\u001b[0;34m(\u001b[0m\u001b[0;34m'get'\u001b[0m\u001b[0;34m,\u001b[0m \u001b[0murl\u001b[0m\u001b[0;34m,\u001b[0m \u001b[0mparams\u001b[0m\u001b[0;34m=\u001b[0m\u001b[0mparams\u001b[0m\u001b[0;34m,\u001b[0m \u001b[0;34m**\u001b[0m\u001b[0mkwargs\u001b[0m\u001b[0;34m)\u001b[0m\u001b[0;34m\u001b[0m\u001b[0;34m\u001b[0m\u001b[0m\n\u001b[0m\u001b[1;32m     76\u001b[0m \u001b[0;34m\u001b[0m\u001b[0m\n\u001b[1;32m     77\u001b[0m \u001b[0;34m\u001b[0m\u001b[0m\n",
      "\u001b[0;32m~/anaconda3/lib/python3.7/site-packages/requests/api.py\u001b[0m in \u001b[0;36mrequest\u001b[0;34m(method, url, **kwargs)\u001b[0m\n\u001b[1;32m     58\u001b[0m     \u001b[0;31m# cases, and look like a memory leak in others.\u001b[0m\u001b[0;34m\u001b[0m\u001b[0;34m\u001b[0m\u001b[0;34m\u001b[0m\u001b[0m\n\u001b[1;32m     59\u001b[0m     \u001b[0;32mwith\u001b[0m \u001b[0msessions\u001b[0m\u001b[0;34m.\u001b[0m\u001b[0mSession\u001b[0m\u001b[0;34m(\u001b[0m\u001b[0;34m)\u001b[0m \u001b[0;32mas\u001b[0m \u001b[0msession\u001b[0m\u001b[0;34m:\u001b[0m\u001b[0;34m\u001b[0m\u001b[0;34m\u001b[0m\u001b[0m\n\u001b[0;32m---> 60\u001b[0;31m         \u001b[0;32mreturn\u001b[0m \u001b[0msession\u001b[0m\u001b[0;34m.\u001b[0m\u001b[0mrequest\u001b[0m\u001b[0;34m(\u001b[0m\u001b[0mmethod\u001b[0m\u001b[0;34m=\u001b[0m\u001b[0mmethod\u001b[0m\u001b[0;34m,\u001b[0m \u001b[0murl\u001b[0m\u001b[0;34m=\u001b[0m\u001b[0murl\u001b[0m\u001b[0;34m,\u001b[0m \u001b[0;34m**\u001b[0m\u001b[0mkwargs\u001b[0m\u001b[0;34m)\u001b[0m\u001b[0;34m\u001b[0m\u001b[0;34m\u001b[0m\u001b[0m\n\u001b[0m\u001b[1;32m     61\u001b[0m \u001b[0;34m\u001b[0m\u001b[0m\n\u001b[1;32m     62\u001b[0m \u001b[0;34m\u001b[0m\u001b[0m\n",
      "\u001b[0;32m~/anaconda3/lib/python3.7/site-packages/requests/sessions.py\u001b[0m in \u001b[0;36mrequest\u001b[0;34m(self, method, url, params, data, headers, cookies, files, auth, timeout, allow_redirects, proxies, hooks, stream, verify, cert, json)\u001b[0m\n\u001b[1;32m    531\u001b[0m         }\n\u001b[1;32m    532\u001b[0m         \u001b[0msend_kwargs\u001b[0m\u001b[0;34m.\u001b[0m\u001b[0mupdate\u001b[0m\u001b[0;34m(\u001b[0m\u001b[0msettings\u001b[0m\u001b[0;34m)\u001b[0m\u001b[0;34m\u001b[0m\u001b[0;34m\u001b[0m\u001b[0m\n\u001b[0;32m--> 533\u001b[0;31m         \u001b[0mresp\u001b[0m \u001b[0;34m=\u001b[0m \u001b[0mself\u001b[0m\u001b[0;34m.\u001b[0m\u001b[0msend\u001b[0m\u001b[0;34m(\u001b[0m\u001b[0mprep\u001b[0m\u001b[0;34m,\u001b[0m \u001b[0;34m**\u001b[0m\u001b[0msend_kwargs\u001b[0m\u001b[0;34m)\u001b[0m\u001b[0;34m\u001b[0m\u001b[0;34m\u001b[0m\u001b[0m\n\u001b[0m\u001b[1;32m    534\u001b[0m \u001b[0;34m\u001b[0m\u001b[0m\n\u001b[1;32m    535\u001b[0m         \u001b[0;32mreturn\u001b[0m \u001b[0mresp\u001b[0m\u001b[0;34m\u001b[0m\u001b[0;34m\u001b[0m\u001b[0m\n",
      "\u001b[0;32m~/anaconda3/lib/python3.7/site-packages/requests/sessions.py\u001b[0m in \u001b[0;36msend\u001b[0;34m(self, request, **kwargs)\u001b[0m\n\u001b[1;32m    684\u001b[0m \u001b[0;34m\u001b[0m\u001b[0m\n\u001b[1;32m    685\u001b[0m         \u001b[0;32mif\u001b[0m \u001b[0;32mnot\u001b[0m \u001b[0mstream\u001b[0m\u001b[0;34m:\u001b[0m\u001b[0;34m\u001b[0m\u001b[0;34m\u001b[0m\u001b[0m\n\u001b[0;32m--> 686\u001b[0;31m             \u001b[0mr\u001b[0m\u001b[0;34m.\u001b[0m\u001b[0mcontent\u001b[0m\u001b[0;34m\u001b[0m\u001b[0;34m\u001b[0m\u001b[0m\n\u001b[0m\u001b[1;32m    687\u001b[0m \u001b[0;34m\u001b[0m\u001b[0m\n\u001b[1;32m    688\u001b[0m         \u001b[0;32mreturn\u001b[0m \u001b[0mr\u001b[0m\u001b[0;34m\u001b[0m\u001b[0;34m\u001b[0m\u001b[0m\n",
      "\u001b[0;32m~/anaconda3/lib/python3.7/site-packages/requests/models.py\u001b[0m in \u001b[0;36mcontent\u001b[0;34m(self)\u001b[0m\n\u001b[1;32m    826\u001b[0m                 \u001b[0mself\u001b[0m\u001b[0;34m.\u001b[0m\u001b[0m_content\u001b[0m \u001b[0;34m=\u001b[0m \u001b[0;32mNone\u001b[0m\u001b[0;34m\u001b[0m\u001b[0;34m\u001b[0m\u001b[0m\n\u001b[1;32m    827\u001b[0m             \u001b[0;32melse\u001b[0m\u001b[0;34m:\u001b[0m\u001b[0;34m\u001b[0m\u001b[0;34m\u001b[0m\u001b[0m\n\u001b[0;32m--> 828\u001b[0;31m                 \u001b[0mself\u001b[0m\u001b[0;34m.\u001b[0m\u001b[0m_content\u001b[0m \u001b[0;34m=\u001b[0m \u001b[0;34mb''\u001b[0m\u001b[0;34m.\u001b[0m\u001b[0mjoin\u001b[0m\u001b[0;34m(\u001b[0m\u001b[0mself\u001b[0m\u001b[0;34m.\u001b[0m\u001b[0miter_content\u001b[0m\u001b[0;34m(\u001b[0m\u001b[0mCONTENT_CHUNK_SIZE\u001b[0m\u001b[0;34m)\u001b[0m\u001b[0;34m)\u001b[0m \u001b[0;32mor\u001b[0m \u001b[0;34mb''\u001b[0m\u001b[0;34m\u001b[0m\u001b[0;34m\u001b[0m\u001b[0m\n\u001b[0m\u001b[1;32m    829\u001b[0m \u001b[0;34m\u001b[0m\u001b[0m\n\u001b[1;32m    830\u001b[0m         \u001b[0mself\u001b[0m\u001b[0;34m.\u001b[0m\u001b[0m_content_consumed\u001b[0m \u001b[0;34m=\u001b[0m \u001b[0;32mTrue\u001b[0m\u001b[0;34m\u001b[0m\u001b[0;34m\u001b[0m\u001b[0m\n",
      "\u001b[0;32m~/anaconda3/lib/python3.7/site-packages/requests/models.py\u001b[0m in \u001b[0;36mgenerate\u001b[0;34m()\u001b[0m\n\u001b[1;32m    748\u001b[0m             \u001b[0;32mif\u001b[0m \u001b[0mhasattr\u001b[0m\u001b[0;34m(\u001b[0m\u001b[0mself\u001b[0m\u001b[0;34m.\u001b[0m\u001b[0mraw\u001b[0m\u001b[0;34m,\u001b[0m \u001b[0;34m'stream'\u001b[0m\u001b[0;34m)\u001b[0m\u001b[0;34m:\u001b[0m\u001b[0;34m\u001b[0m\u001b[0;34m\u001b[0m\u001b[0m\n\u001b[1;32m    749\u001b[0m                 \u001b[0;32mtry\u001b[0m\u001b[0;34m:\u001b[0m\u001b[0;34m\u001b[0m\u001b[0;34m\u001b[0m\u001b[0m\n\u001b[0;32m--> 750\u001b[0;31m                     \u001b[0;32mfor\u001b[0m \u001b[0mchunk\u001b[0m \u001b[0;32min\u001b[0m \u001b[0mself\u001b[0m\u001b[0;34m.\u001b[0m\u001b[0mraw\u001b[0m\u001b[0;34m.\u001b[0m\u001b[0mstream\u001b[0m\u001b[0;34m(\u001b[0m\u001b[0mchunk_size\u001b[0m\u001b[0;34m,\u001b[0m \u001b[0mdecode_content\u001b[0m\u001b[0;34m=\u001b[0m\u001b[0;32mTrue\u001b[0m\u001b[0;34m)\u001b[0m\u001b[0;34m:\u001b[0m\u001b[0;34m\u001b[0m\u001b[0;34m\u001b[0m\u001b[0m\n\u001b[0m\u001b[1;32m    751\u001b[0m                         \u001b[0;32myield\u001b[0m \u001b[0mchunk\u001b[0m\u001b[0;34m\u001b[0m\u001b[0;34m\u001b[0m\u001b[0m\n\u001b[1;32m    752\u001b[0m                 \u001b[0;32mexcept\u001b[0m \u001b[0mProtocolError\u001b[0m \u001b[0;32mas\u001b[0m \u001b[0me\u001b[0m\u001b[0;34m:\u001b[0m\u001b[0;34m\u001b[0m\u001b[0;34m\u001b[0m\u001b[0m\n",
      "\u001b[0;32m~/anaconda3/lib/python3.7/site-packages/urllib3/response.py\u001b[0m in \u001b[0;36mstream\u001b[0;34m(self, amt, decode_content)\u001b[0m\n\u001b[1;32m    558\u001b[0m         \"\"\"\n\u001b[1;32m    559\u001b[0m         \u001b[0;32mif\u001b[0m \u001b[0mself\u001b[0m\u001b[0;34m.\u001b[0m\u001b[0mchunked\u001b[0m \u001b[0;32mand\u001b[0m \u001b[0mself\u001b[0m\u001b[0;34m.\u001b[0m\u001b[0msupports_chunked_reads\u001b[0m\u001b[0;34m(\u001b[0m\u001b[0;34m)\u001b[0m\u001b[0;34m:\u001b[0m\u001b[0;34m\u001b[0m\u001b[0;34m\u001b[0m\u001b[0m\n\u001b[0;32m--> 560\u001b[0;31m             \u001b[0;32mfor\u001b[0m \u001b[0mline\u001b[0m \u001b[0;32min\u001b[0m \u001b[0mself\u001b[0m\u001b[0;34m.\u001b[0m\u001b[0mread_chunked\u001b[0m\u001b[0;34m(\u001b[0m\u001b[0mamt\u001b[0m\u001b[0;34m,\u001b[0m \u001b[0mdecode_content\u001b[0m\u001b[0;34m=\u001b[0m\u001b[0mdecode_content\u001b[0m\u001b[0;34m)\u001b[0m\u001b[0;34m:\u001b[0m\u001b[0;34m\u001b[0m\u001b[0;34m\u001b[0m\u001b[0m\n\u001b[0m\u001b[1;32m    561\u001b[0m                 \u001b[0;32myield\u001b[0m \u001b[0mline\u001b[0m\u001b[0;34m\u001b[0m\u001b[0;34m\u001b[0m\u001b[0m\n\u001b[1;32m    562\u001b[0m         \u001b[0;32melse\u001b[0m\u001b[0;34m:\u001b[0m\u001b[0;34m\u001b[0m\u001b[0;34m\u001b[0m\u001b[0m\n",
      "\u001b[0;32m~/anaconda3/lib/python3.7/site-packages/urllib3/response.py\u001b[0m in \u001b[0;36mread_chunked\u001b[0;34m(self, amt, decode_content)\u001b[0m\n\u001b[1;32m    753\u001b[0m                 \u001b[0;32mif\u001b[0m \u001b[0mself\u001b[0m\u001b[0;34m.\u001b[0m\u001b[0mchunk_left\u001b[0m \u001b[0;34m==\u001b[0m \u001b[0;36m0\u001b[0m\u001b[0;34m:\u001b[0m\u001b[0;34m\u001b[0m\u001b[0;34m\u001b[0m\u001b[0m\n\u001b[1;32m    754\u001b[0m                     \u001b[0;32mbreak\u001b[0m\u001b[0;34m\u001b[0m\u001b[0;34m\u001b[0m\u001b[0m\n\u001b[0;32m--> 755\u001b[0;31m                 \u001b[0mchunk\u001b[0m \u001b[0;34m=\u001b[0m \u001b[0mself\u001b[0m\u001b[0;34m.\u001b[0m\u001b[0m_handle_chunk\u001b[0m\u001b[0;34m(\u001b[0m\u001b[0mamt\u001b[0m\u001b[0;34m)\u001b[0m\u001b[0;34m\u001b[0m\u001b[0;34m\u001b[0m\u001b[0m\n\u001b[0m\u001b[1;32m    756\u001b[0m                 decoded = self._decode(\n\u001b[1;32m    757\u001b[0m                     \u001b[0mchunk\u001b[0m\u001b[0;34m,\u001b[0m \u001b[0mdecode_content\u001b[0m\u001b[0;34m=\u001b[0m\u001b[0mdecode_content\u001b[0m\u001b[0;34m,\u001b[0m \u001b[0mflush_decoder\u001b[0m\u001b[0;34m=\u001b[0m\u001b[0;32mFalse\u001b[0m\u001b[0;34m\u001b[0m\u001b[0;34m\u001b[0m\u001b[0m\n",
      "\u001b[0;32m~/anaconda3/lib/python3.7/site-packages/urllib3/response.py\u001b[0m in \u001b[0;36m_handle_chunk\u001b[0;34m(self, amt)\u001b[0m\n\u001b[1;32m    697\u001b[0m             \u001b[0mself\u001b[0m\u001b[0;34m.\u001b[0m\u001b[0mchunk_left\u001b[0m \u001b[0;34m=\u001b[0m \u001b[0;32mNone\u001b[0m\u001b[0;34m\u001b[0m\u001b[0;34m\u001b[0m\u001b[0m\n\u001b[1;32m    698\u001b[0m         \u001b[0;32melif\u001b[0m \u001b[0mamt\u001b[0m \u001b[0;34m<\u001b[0m \u001b[0mself\u001b[0m\u001b[0;34m.\u001b[0m\u001b[0mchunk_left\u001b[0m\u001b[0;34m:\u001b[0m\u001b[0;34m\u001b[0m\u001b[0;34m\u001b[0m\u001b[0m\n\u001b[0;32m--> 699\u001b[0;31m             \u001b[0mvalue\u001b[0m \u001b[0;34m=\u001b[0m \u001b[0mself\u001b[0m\u001b[0;34m.\u001b[0m\u001b[0m_fp\u001b[0m\u001b[0;34m.\u001b[0m\u001b[0m_safe_read\u001b[0m\u001b[0;34m(\u001b[0m\u001b[0mamt\u001b[0m\u001b[0;34m)\u001b[0m\u001b[0;34m\u001b[0m\u001b[0;34m\u001b[0m\u001b[0m\n\u001b[0m\u001b[1;32m    700\u001b[0m             \u001b[0mself\u001b[0m\u001b[0;34m.\u001b[0m\u001b[0mchunk_left\u001b[0m \u001b[0;34m=\u001b[0m \u001b[0mself\u001b[0m\u001b[0;34m.\u001b[0m\u001b[0mchunk_left\u001b[0m \u001b[0;34m-\u001b[0m \u001b[0mamt\u001b[0m\u001b[0;34m\u001b[0m\u001b[0;34m\u001b[0m\u001b[0m\n\u001b[1;32m    701\u001b[0m             \u001b[0mreturned_chunk\u001b[0m \u001b[0;34m=\u001b[0m \u001b[0mvalue\u001b[0m\u001b[0;34m\u001b[0m\u001b[0;34m\u001b[0m\u001b[0m\n",
      "\u001b[0;32m~/anaconda3/lib/python3.7/http/client.py\u001b[0m in \u001b[0;36m_safe_read\u001b[0;34m(self, amt)\u001b[0m\n\u001b[1;32m    618\u001b[0m         \u001b[0ms\u001b[0m \u001b[0;34m=\u001b[0m \u001b[0;34m[\u001b[0m\u001b[0;34m]\u001b[0m\u001b[0;34m\u001b[0m\u001b[0;34m\u001b[0m\u001b[0m\n\u001b[1;32m    619\u001b[0m         \u001b[0;32mwhile\u001b[0m \u001b[0mamt\u001b[0m \u001b[0;34m>\u001b[0m \u001b[0;36m0\u001b[0m\u001b[0;34m:\u001b[0m\u001b[0;34m\u001b[0m\u001b[0;34m\u001b[0m\u001b[0m\n\u001b[0;32m--> 620\u001b[0;31m             \u001b[0mchunk\u001b[0m \u001b[0;34m=\u001b[0m \u001b[0mself\u001b[0m\u001b[0;34m.\u001b[0m\u001b[0mfp\u001b[0m\u001b[0;34m.\u001b[0m\u001b[0mread\u001b[0m\u001b[0;34m(\u001b[0m\u001b[0mmin\u001b[0m\u001b[0;34m(\u001b[0m\u001b[0mamt\u001b[0m\u001b[0;34m,\u001b[0m \u001b[0mMAXAMOUNT\u001b[0m\u001b[0;34m)\u001b[0m\u001b[0;34m)\u001b[0m\u001b[0;34m\u001b[0m\u001b[0;34m\u001b[0m\u001b[0m\n\u001b[0m\u001b[1;32m    621\u001b[0m             \u001b[0;32mif\u001b[0m \u001b[0;32mnot\u001b[0m \u001b[0mchunk\u001b[0m\u001b[0;34m:\u001b[0m\u001b[0;34m\u001b[0m\u001b[0;34m\u001b[0m\u001b[0m\n\u001b[1;32m    622\u001b[0m                 \u001b[0;32mraise\u001b[0m \u001b[0mIncompleteRead\u001b[0m\u001b[0;34m(\u001b[0m\u001b[0;34mb''\u001b[0m\u001b[0;34m.\u001b[0m\u001b[0mjoin\u001b[0m\u001b[0;34m(\u001b[0m\u001b[0ms\u001b[0m\u001b[0;34m)\u001b[0m\u001b[0;34m,\u001b[0m \u001b[0mamt\u001b[0m\u001b[0;34m)\u001b[0m\u001b[0;34m\u001b[0m\u001b[0;34m\u001b[0m\u001b[0m\n",
      "\u001b[0;32m~/anaconda3/lib/python3.7/socket.py\u001b[0m in \u001b[0;36mreadinto\u001b[0;34m(self, b)\u001b[0m\n\u001b[1;32m    587\u001b[0m         \u001b[0;32mwhile\u001b[0m \u001b[0;32mTrue\u001b[0m\u001b[0;34m:\u001b[0m\u001b[0;34m\u001b[0m\u001b[0;34m\u001b[0m\u001b[0m\n\u001b[1;32m    588\u001b[0m             \u001b[0;32mtry\u001b[0m\u001b[0;34m:\u001b[0m\u001b[0;34m\u001b[0m\u001b[0;34m\u001b[0m\u001b[0m\n\u001b[0;32m--> 589\u001b[0;31m                 \u001b[0;32mreturn\u001b[0m \u001b[0mself\u001b[0m\u001b[0;34m.\u001b[0m\u001b[0m_sock\u001b[0m\u001b[0;34m.\u001b[0m\u001b[0mrecv_into\u001b[0m\u001b[0;34m(\u001b[0m\u001b[0mb\u001b[0m\u001b[0;34m)\u001b[0m\u001b[0;34m\u001b[0m\u001b[0;34m\u001b[0m\u001b[0m\n\u001b[0m\u001b[1;32m    590\u001b[0m             \u001b[0;32mexcept\u001b[0m \u001b[0mtimeout\u001b[0m\u001b[0;34m:\u001b[0m\u001b[0;34m\u001b[0m\u001b[0;34m\u001b[0m\u001b[0m\n\u001b[1;32m    591\u001b[0m                 \u001b[0mself\u001b[0m\u001b[0;34m.\u001b[0m\u001b[0m_timeout_occurred\u001b[0m \u001b[0;34m=\u001b[0m \u001b[0;32mTrue\u001b[0m\u001b[0;34m\u001b[0m\u001b[0;34m\u001b[0m\u001b[0m\n",
      "\u001b[0;32m~/anaconda3/lib/python3.7/site-packages/urllib3/contrib/pyopenssl.py\u001b[0m in \u001b[0;36mrecv_into\u001b[0;34m(self, *args, **kwargs)\u001b[0m\n\u001b[1;32m    311\u001b[0m     \u001b[0;32mdef\u001b[0m \u001b[0mrecv_into\u001b[0m\u001b[0;34m(\u001b[0m\u001b[0mself\u001b[0m\u001b[0;34m,\u001b[0m \u001b[0;34m*\u001b[0m\u001b[0margs\u001b[0m\u001b[0;34m,\u001b[0m \u001b[0;34m**\u001b[0m\u001b[0mkwargs\u001b[0m\u001b[0;34m)\u001b[0m\u001b[0;34m:\u001b[0m\u001b[0;34m\u001b[0m\u001b[0;34m\u001b[0m\u001b[0m\n\u001b[1;32m    312\u001b[0m         \u001b[0;32mtry\u001b[0m\u001b[0;34m:\u001b[0m\u001b[0;34m\u001b[0m\u001b[0;34m\u001b[0m\u001b[0m\n\u001b[0;32m--> 313\u001b[0;31m             \u001b[0;32mreturn\u001b[0m \u001b[0mself\u001b[0m\u001b[0;34m.\u001b[0m\u001b[0mconnection\u001b[0m\u001b[0;34m.\u001b[0m\u001b[0mrecv_into\u001b[0m\u001b[0;34m(\u001b[0m\u001b[0;34m*\u001b[0m\u001b[0margs\u001b[0m\u001b[0;34m,\u001b[0m \u001b[0;34m**\u001b[0m\u001b[0mkwargs\u001b[0m\u001b[0;34m)\u001b[0m\u001b[0;34m\u001b[0m\u001b[0;34m\u001b[0m\u001b[0m\n\u001b[0m\u001b[1;32m    314\u001b[0m         \u001b[0;32mexcept\u001b[0m \u001b[0mOpenSSL\u001b[0m\u001b[0;34m.\u001b[0m\u001b[0mSSL\u001b[0m\u001b[0;34m.\u001b[0m\u001b[0mSysCallError\u001b[0m \u001b[0;32mas\u001b[0m \u001b[0me\u001b[0m\u001b[0;34m:\u001b[0m\u001b[0;34m\u001b[0m\u001b[0;34m\u001b[0m\u001b[0m\n\u001b[1;32m    315\u001b[0m             \u001b[0;32mif\u001b[0m \u001b[0mself\u001b[0m\u001b[0;34m.\u001b[0m\u001b[0msuppress_ragged_eofs\u001b[0m \u001b[0;32mand\u001b[0m \u001b[0me\u001b[0m\u001b[0;34m.\u001b[0m\u001b[0margs\u001b[0m \u001b[0;34m==\u001b[0m \u001b[0;34m(\u001b[0m\u001b[0;34m-\u001b[0m\u001b[0;36m1\u001b[0m\u001b[0;34m,\u001b[0m \u001b[0;34m\"Unexpected EOF\"\u001b[0m\u001b[0;34m)\u001b[0m\u001b[0;34m:\u001b[0m\u001b[0;34m\u001b[0m\u001b[0;34m\u001b[0m\u001b[0m\n",
      "\u001b[0;32m~/anaconda3/lib/python3.7/site-packages/OpenSSL/SSL.py\u001b[0m in \u001b[0;36mrecv_into\u001b[0;34m(self, buffer, nbytes, flags)\u001b[0m\n\u001b[1;32m   1837\u001b[0m             \u001b[0mresult\u001b[0m \u001b[0;34m=\u001b[0m \u001b[0m_lib\u001b[0m\u001b[0;34m.\u001b[0m\u001b[0mSSL_peek\u001b[0m\u001b[0;34m(\u001b[0m\u001b[0mself\u001b[0m\u001b[0;34m.\u001b[0m\u001b[0m_ssl\u001b[0m\u001b[0;34m,\u001b[0m \u001b[0mbuf\u001b[0m\u001b[0;34m,\u001b[0m \u001b[0mnbytes\u001b[0m\u001b[0;34m)\u001b[0m\u001b[0;34m\u001b[0m\u001b[0;34m\u001b[0m\u001b[0m\n\u001b[1;32m   1838\u001b[0m         \u001b[0;32melse\u001b[0m\u001b[0;34m:\u001b[0m\u001b[0;34m\u001b[0m\u001b[0;34m\u001b[0m\u001b[0m\n\u001b[0;32m-> 1839\u001b[0;31m             \u001b[0mresult\u001b[0m \u001b[0;34m=\u001b[0m \u001b[0m_lib\u001b[0m\u001b[0;34m.\u001b[0m\u001b[0mSSL_read\u001b[0m\u001b[0;34m(\u001b[0m\u001b[0mself\u001b[0m\u001b[0;34m.\u001b[0m\u001b[0m_ssl\u001b[0m\u001b[0;34m,\u001b[0m \u001b[0mbuf\u001b[0m\u001b[0;34m,\u001b[0m \u001b[0mnbytes\u001b[0m\u001b[0;34m)\u001b[0m\u001b[0;34m\u001b[0m\u001b[0;34m\u001b[0m\u001b[0m\n\u001b[0m\u001b[1;32m   1840\u001b[0m         \u001b[0mself\u001b[0m\u001b[0;34m.\u001b[0m\u001b[0m_raise_ssl_error\u001b[0m\u001b[0;34m(\u001b[0m\u001b[0mself\u001b[0m\u001b[0;34m.\u001b[0m\u001b[0m_ssl\u001b[0m\u001b[0;34m,\u001b[0m \u001b[0mresult\u001b[0m\u001b[0;34m)\u001b[0m\u001b[0;34m\u001b[0m\u001b[0;34m\u001b[0m\u001b[0m\n\u001b[1;32m   1841\u001b[0m \u001b[0;34m\u001b[0m\u001b[0m\n",
      "\u001b[0;31mKeyboardInterrupt\u001b[0m: "
     ]
    }
   ],
   "source": [
    "for indice in range(ultima_publi_acesso, (ultima_publi_tce + 1)):\n",
    "    resposta = requests.get(f'https://www.tce.mt.gov.br/diario/preview/numero_diario_oficial/{indice}')\n",
    "    soup_pdf_tce = BeautifulSoup(resposta.content, 'html.parser')\n",
    "    variavel = soup_pdf_tce.find(id=\"outerContainer\")\n",
    "    \n",
    "    extrair_mes = re.compile('value=\"(.*?)\"').search(str(variavel))\n",
    "    mes = extrair_mes.group(1)\n",
    "    \n",
    "    extrair_ano= re.compile('name=\"ano\" type=\"hidden\" value=\"(.*?)\"').search(str(variavel))\n",
    "    ano = extrair_ano.group(1)\n",
    "    \n",
    "    \n",
    "    extrair_numero_diario= re.compile('id=\"numero\" name=\"numero\" type=\"hidden\" value=\"(.*?)\"').search(str(variavel))\n",
    "    numero_diario = extrair_numero_diario.group(1)\n",
    "    \n",
    "    resposta_diario_pdf = requests.get(f'https://www.tce.mt.gov.br/uploads/doe/{ano}/{mes}/{numero_diario}/diario_oficial_eletronico_{numero_diario}.pdf')\n",
    "    \n",
    "    with open(f'Diario_TCE 2 {indice}', 'wb') as pdf_tce:\n",
    "        pdf_tce.write(resposta_diario_pdf.content)\n",
    "        \n",
    "    print(f'Diario_TCE {indice}')"
   ]
  },
  {
   "cell_type": "code",
   "execution_count": 66,
   "metadata": {},
   "outputs": [
    {
     "data": {
      "text/plain": [
       "b'<!doctype html>\\r\\n<html lang=\"en\">\\r\\n    <head>\\r\\n        <title>TCE/MT :: Di\\xe1rio Oficial de Contas n\\xb0 1502</title>\\r\\n        <meta name=\"viewport\" content=\"width = 1050, user-scalable = no\" />\\r\\n\\r\\n        <link rel=\"stylesheet\" href=\"/css/pdfjs/viewer.css\">\\r\\n        <!--<link rel=\"stylesheet\" href=\"https://mozilla.github.io/pdf.js/web/viewer.css\">-->\\r\\n        <!-- This snippet is used in production (included from viewer.html) -->\\r\\n        <link rel=\"resource\" type=\"application/l10n\" href=\"https://mozilla.github.io/pdf.js/web/locale/locale.properties\">\\r\\n        \\r\\n    </head>\\r\\n    <body tabindex=\"1\" class=\"loadingInProgress\">\\r\\n\\r\\n        <div id=\"outerContainer\"  >\\r\\n            <input type=\"hidden\" data-mes=\"12\" name=\"mes\" class=\"mes\" value=\"12\" id=\"mes\">\\r\\n            <input type=\"hidden\" name=\"ano\" value=\"2018\" id=\"ano\">\\r\\n            <input type=\"hidden\" name=\"numero\" value=\"1502\" id=\"numero\">\\r\\n            <div id=\"sidebarContainer\">\\r\\n                <div id=\"toolbarSidebar\">\\r\\n                    <div class=\"splitToolbarButton toggled\">\\r\\n                        <button id=\"viewThumbnail\" class=\"toolbarButton toggled\" title=\"Show Thumbnails\" tabindex=\"2\" data-l10n-id=\"thumbs\">\\r\\n                            <span data-l10n-id=\"thumbs_label\">Thumbnails</span>\\r\\n                        </button>\\r\\n                        <button id=\"viewOutline\" class=\"toolbarButton\" title=\"Show Document Outline (double-click to expand/collapse all items)\" tabindex=\"3\" data-l10n-id=\"document_outline\">\\r\\n                            <span data-l10n-id=\"document_outline_label\">Document Outline</span>\\r\\n                        </button>\\r\\n                        <button id=\"viewAttachments\" class=\"toolbarButton\" title=\"Show Attachments\" tabindex=\"4\" data-l10n-id=\"attachments\">\\r\\n                            <span data-l10n-id=\"attachments_label\">Attachments</span>\\r\\n                        </button>\\r\\n                    </div>\\r\\n                </div>\\r\\n                <div id=\"sidebarContent\">\\r\\n                    <div id=\"thumbnailView\">\\r\\n                    </div>\\r\\n                    <div id=\"outlineView\" class=\"hidden\">\\r\\n                    </div>\\r\\n                    <div id=\"attachmentsView\" class=\"hidden\">\\r\\n                    </div>\\r\\n                </div>\\r\\n                <div id=\"sidebarResizer\" class=\"hidden\"></div>\\r\\n            </div>  <!-- sidebarContainer -->\\r\\n\\r\\n            <div id=\"mainContainer\">\\r\\n                <div class=\"findbar hidden doorHanger\" id=\"findbar\">\\r\\n                    <div id=\"findbarInputContainer\">\\r\\n                        <input id=\"findInput\" class=\"toolbarField\" title=\"Find\" placeholder=\"Find in document?\" tabindex=\"91\" data-l10n-id=\"find_input\">\\r\\n                        <div class=\"splitToolbarButton\">\\r\\n                            <button id=\"findPrevious\" class=\"toolbarButton findPrevious\" title=\"Find the previous occurrence of the phrase\" tabindex=\"92\" data-l10n-id=\"find_previous\">\\r\\n                                <span data-l10n-id=\"find_previous_label\">Previous</span>\\r\\n                            </button>\\r\\n                            <div class=\"splitToolbarButtonSeparator\"></div>\\r\\n                            <button id=\"findNext\" class=\"toolbarButton findNext\" title=\"Find the next occurrence of the phrase\" tabindex=\"93\" data-l10n-id=\"find_next\">\\r\\n                                <span data-l10n-id=\"find_next_label\">Next</span>\\r\\n                            </button>\\r\\n                        </div>\\r\\n                    </div>\\r\\n\\r\\n                    <div id=\"findbarOptionsContainer\">\\r\\n                        <input type=\"checkbox\" id=\"findHighlightAll\" class=\"toolbarField\" tabindex=\"94\">\\r\\n                        <label for=\"findHighlightAll\" class=\"toolbarLabel\" data-l10n-id=\"find_highlight\">Highlight all</label>\\r\\n                        <input type=\"checkbox\" id=\"findMatchCase\" class=\"toolbarField\" tabindex=\"95\">\\r\\n                        <label for=\"findMatchCase\" class=\"toolbarLabel\" data-l10n-id=\"find_match_case_label\">Match case</label>\\r\\n                        <span id=\"findResultsCount\" class=\"toolbarLabel hidden\"></span>\\r\\n                    </div>\\r\\n\\r\\n                    <div id=\"findbarMessageContainer\">\\r\\n                        <span id=\"findMsg\" class=\"toolbarLabel\"></span>\\r\\n                    </div>\\r\\n                </div>  <!-- findbar -->\\r\\n\\r\\n                <div id=\"secondaryToolbar\" class=\"secondaryToolbar hidden doorHangerRight\">\\r\\n                    <div id=\"secondaryToolbarButtonContainer\">\\r\\n                        <button id=\"secondaryPresentationMode\" class=\"secondaryToolbarButton presentationMode visibleLargeView\" title=\"Switch to Presentation Mode\" tabindex=\"51\" data-l10n-id=\"presentation_mode\">\\r\\n                            <span data-l10n-id=\"presentation_mode_label\">Presentation Mode</span>\\r\\n                        </button>\\r\\n\\r\\n                        <button id=\"secondaryOpenFile\" class=\"secondaryToolbarButton openFile visibleLargeView\" title=\"Open File\" tabindex=\"52\" data-l10n-id=\"open_file\">\\r\\n                            <span data-l10n-id=\"open_file_label\">Open</span>\\r\\n                        </button>\\r\\n\\r\\n                        <button id=\"secondaryPrint\" class=\"secondaryToolbarButton print visibleMediumView\" title=\"Print\" tabindex=\"53\" data-l10n-id=\"print\">\\r\\n                            <span data-l10n-id=\"print_label\">Print</span>\\r\\n                        </button>\\r\\n\\r\\n                        <button id=\"secondaryDownload\" class=\"secondaryToolbarButton download visibleMediumView\" title=\"Download\" tabindex=\"54\" data-l10n-id=\"download\">\\r\\n                            <span data-l10n-id=\"download_label\">Download</span>\\r\\n                        </button>\\r\\n\\r\\n                        <a href=\"#\" id=\"secondaryViewBookmark\" class=\"secondaryToolbarButton bookmark visibleSmallView\" title=\"Current view (copy or open in new window)\" tabindex=\"55\" data-l10n-id=\"bookmark\">\\r\\n                            <span data-l10n-id=\"bookmark_label\">Current View</span>\\r\\n                        </a>\\r\\n\\r\\n                        <div class=\"horizontalToolbarSeparator visibleLargeView\"></div>\\r\\n\\r\\n                        <button id=\"firstPage\" class=\"secondaryToolbarButton firstPage\" title=\"Go to First Page\" tabindex=\"56\" data-l10n-id=\"first_page\">\\r\\n                            <span data-l10n-id=\"first_page_label\">Go to First Page</span>\\r\\n                        </button>\\r\\n                        <button id=\"lastPage\" class=\"secondaryToolbarButton lastPage\" title=\"Go to Last Page\" tabindex=\"57\" data-l10n-id=\"last_page\">\\r\\n                            <span data-l10n-id=\"last_page_label\">Go to Last Page</span>\\r\\n                        </button>\\r\\n\\r\\n                        <div class=\"horizontalToolbarSeparator\"></div>\\r\\n\\r\\n                        <button id=\"pageRotateCw\" class=\"secondaryToolbarButton rotateCw\" title=\"Rotate Clockwise\" tabindex=\"58\" data-l10n-id=\"page_rotate_cw\">\\r\\n                            <span data-l10n-id=\"page_rotate_cw_label\">Rotate Clockwise</span>\\r\\n                        </button>\\r\\n                        <button id=\"pageRotateCcw\" class=\"secondaryToolbarButton rotateCcw\" title=\"Rotate Counterclockwise\" tabindex=\"59\" data-l10n-id=\"page_rotate_ccw\">\\r\\n                            <span data-l10n-id=\"page_rotate_ccw_label\">Rotate Counterclockwise</span>\\r\\n                        </button>\\r\\n\\r\\n                        <div class=\"horizontalToolbarSeparator\"></div>\\r\\n\\r\\n                        <button id=\"cursorSelectTool\" class=\"secondaryToolbarButton selectTool toggled\" title=\"Enable Text Selection Tool\" tabindex=\"60\" data-l10n-id=\"cursor_text_select_tool\">\\r\\n                            <span data-l10n-id=\"cursor_text_select_tool_label\">Text Selection Tool</span>\\r\\n                        </button>\\r\\n                        <button id=\"cursorHandTool\" class=\"secondaryToolbarButton handTool\" title=\"Enable Hand Tool\" tabindex=\"61\" data-l10n-id=\"cursor_hand_tool\">\\r\\n                            <span data-l10n-id=\"cursor_hand_tool_label\">Hand Tool</span>\\r\\n                        </button>\\r\\n\\r\\n                        <div class=\"horizontalToolbarSeparator\"></div>\\r\\n\\r\\n                        <button id=\"documentProperties\" class=\"secondaryToolbarButton documentProperties\" title=\"Document Properties?\" tabindex=\"62\" data-l10n-id=\"document_properties\">\\r\\n                            <span data-l10n-id=\"document_properties_label\">Document Properties?</span>\\r\\n                        </button>\\r\\n                    </div>\\r\\n                </div>  <!-- secondaryToolbar -->\\r\\n\\r\\n                <div class=\"toolbar\">\\r\\n                    <div id=\"toolbarContainer\">\\r\\n                        <div id=\"toolbarViewer\">\\r\\n                            <div id=\"toolbarViewerLeft\">\\r\\n                                <button id=\"sidebarToggle\" class=\"toolbarButton\" title=\"Toggle Sidebar\" tabindex=\"11\" data-l10n-id=\"toggle_sidebar\">\\r\\n                                    <span data-l10n-id=\"toggle_sidebar_label\">Toggle Sidebar</span>\\r\\n                                </button>\\r\\n                                <div class=\"toolbarButtonSpacer\"></div>\\r\\n                                <button id=\"viewFind\" class=\"toolbarButton\" title=\"Find in Document\" tabindex=\"12\" data-l10n-id=\"findbar\">\\r\\n                                    <span data-l10n-id=\"findbar_label\">Find</span>\\r\\n                                </button>\\r\\n                                <div class=\"splitToolbarButton hiddenSmallView\">\\r\\n                                    <button class=\"toolbarButton pageUp\" title=\"Previous Page\" id=\"previous\" tabindex=\"13\" data-l10n-id=\"previous\">\\r\\n                                        <span data-l10n-id=\"previous_label\">Previous</span>\\r\\n                                    </button>\\r\\n                                    <div class=\"splitToolbarButtonSeparator\"></div>\\r\\n                                    <button class=\"toolbarButton pageDown\" title=\"Next Page\" id=\"next\" tabindex=\"14\" data-l10n-id=\"next\">\\r\\n                                        <span data-l10n-id=\"next_label\">Next</span>\\r\\n                                    </button>\\r\\n                                </div>\\r\\n                                <input type=\"number\" id=\"pageNumber\" class=\"toolbarField pageNumber\" title=\"Page\" value=\"1\" size=\"4\" min=\"1\" tabindex=\"15\" data-l10n-id=\"page\">\\r\\n                                <span id=\"numPages\" class=\"toolbarLabel\"></span>\\r\\n                            </div>\\r\\n                            <div id=\"toolbarViewerRight\">\\r\\n                                <button id=\"presentationMode\" class=\"toolbarButton presentationMode hiddenLargeView\" title=\"Switch to Presentation Mode\" tabindex=\"31\" data-l10n-id=\"presentation_mode\">\\r\\n                                    <span data-l10n-id=\"presentation_mode_label\">Presentation Mode</span>\\r\\n                                </button>\\r\\n\\r\\n                                <button id=\"openFile\" class=\"toolbarButton openFile hiddenLargeView\" title=\"Open File\" tabindex=\"32\" data-l10n-id=\"open_file\">\\r\\n                                    <span data-l10n-id=\"open_file_label\">Open</span>\\r\\n                                </button>\\r\\n\\r\\n                                <button id=\"print\" class=\"toolbarButton print hiddenMediumView\" title=\"Print\" tabindex=\"33\" data-l10n-id=\"print\">\\r\\n                                    <span data-l10n-id=\"print_label\">Print</span>\\r\\n                                </button>\\r\\n\\r\\n                                <button id=\"download\" class=\"toolbarButton download hiddenMediumView\" title=\"Download\" tabindex=\"34\" data-l10n-id=\"download\">\\r\\n                                    <span data-l10n-id=\"download_label\">Download</span>\\r\\n                                </button>\\r\\n                                <a href=\"#\" id=\"viewBookmark\" class=\"toolbarButton bookmark hiddenSmallView\" title=\"Current view (copy or open in new window)\" tabindex=\"35\" data-l10n-id=\"bookmark\">\\r\\n                                    <span data-l10n-id=\"bookmark_label\">Current View</span>\\r\\n                                </a>\\r\\n\\r\\n                                <div class=\"verticalToolbarSeparator hiddenSmallView\"></div>\\r\\n\\r\\n                                <button id=\"secondaryToolbarToggle\" class=\"toolbarButton\" title=\"Tools\" tabindex=\"36\" data-l10n-id=\"tools\">\\r\\n                                    <span data-l10n-id=\"tools_label\">Tools</span>\\r\\n                                </button>\\r\\n                            </div>\\r\\n                            <div id=\"toolbarViewerMiddle\">\\r\\n                                <div class=\"splitToolbarButton\">\\r\\n                                    <button id=\"zoomOut\" class=\"toolbarButton zoomOut\" title=\"Zoom Out\" tabindex=\"21\" data-l10n-id=\"zoom_out\">\\r\\n                                        <span data-l10n-id=\"zoom_out_label\">Zoom Out</span>\\r\\n                                    </button>\\r\\n                                    <div class=\"splitToolbarButtonSeparator\"></div>\\r\\n                                    <button id=\"zoomIn\" class=\"toolbarButton zoomIn\" title=\"Zoom In\" tabindex=\"22\" data-l10n-id=\"zoom_in\">\\r\\n                                        <span data-l10n-id=\"zoom_in_label\">Zoom In</span>\\r\\n                                    </button>\\r\\n                                </div>\\r\\n                                <span id=\"scaleSelectContainer\" class=\"dropdownToolbarButton\">\\r\\n                                    <select id=\"scaleSelect\" title=\"Zoom\" tabindex=\"23\" data-l10n-id=\"zoom\">\\r\\n                                        <option id=\"pageAutoOption\" title=\"\" value=\"auto\" selected=\"selected\" data-l10n-id=\"page_scale_auto\">Automatic Zoom</option>\\r\\n                                        <option id=\"pageActualOption\" title=\"\" value=\"page-actual\" data-l10n-id=\"page_scale_actual\">Actual Size</option>\\r\\n                                        <option id=\"pageFitOption\" title=\"\" value=\"page-fit\" data-l10n-id=\"page_scale_fit\">Page Fit</option>\\r\\n                                        <option id=\"pageWidthOption\" title=\"\" value=\"page-width\" data-l10n-id=\"page_scale_width\">Page Width</option>\\r\\n                                        <option id=\"customScaleOption\" title=\"\" value=\"custom\" disabled=\"disabled\" hidden=\"true\"></option>\\r\\n                                        <option title=\"\" value=\"0.5\" data-l10n-id=\"page_scale_percent\" data-l10n-args=\\'{ \"scale\": 50 }\\'>50%</option>\\r\\n                                        <option title=\"\" value=\"0.75\" data-l10n-id=\"page_scale_percent\" data-l10n-args=\\'{ \"scale\": 75 }\\'>75%</option>\\r\\n                                        <option title=\"\" value=\"1\" data-l10n-id=\"page_scale_percent\" data-l10n-args=\\'{ \"scale\": 100 }\\'>100%</option>\\r\\n                                        <option title=\"\" value=\"1.25\" data-l10n-id=\"page_scale_percent\" data-l10n-args=\\'{ \"scale\": 125 }\\'>125%</option>\\r\\n                                        <option title=\"\" value=\"1.5\" data-l10n-id=\"page_scale_percent\" data-l10n-args=\\'{ \"scale\": 150 }\\'>150%</option>\\r\\n                                        <option title=\"\" value=\"2\" data-l10n-id=\"page_scale_percent\" data-l10n-args=\\'{ \"scale\": 200 }\\'>200%</option>\\r\\n                                        <option title=\"\" value=\"3\" data-l10n-id=\"page_scale_percent\" data-l10n-args=\\'{ \"scale\": 300 }\\'>300%</option>\\r\\n                                        <option title=\"\" value=\"4\" data-l10n-id=\"page_scale_percent\" data-l10n-args=\\'{ \"scale\": 400 }\\'>400%</option>\\r\\n                                    </select>\\r\\n                                </span>\\r\\n                            </div>\\r\\n                        </div>\\r\\n                        <div id=\"loadingBar\">\\r\\n                            <div class=\"progress\">\\r\\n                                <div class=\"glimmer\">\\r\\n                                </div>\\r\\n                            </div>\\r\\n                        </div>\\r\\n                    </div>\\r\\n                </div>\\r\\n\\r\\n                <menu type=\"context\" id=\"viewerContextMenu\">\\r\\n                    <menuitem id=\"contextFirstPage\" label=\"First Page\"\\r\\n                              data-l10n-id=\"first_page\"></menuitem>\\r\\n                    <menuitem id=\"contextLastPage\" label=\"Last Page\"\\r\\n                              data-l10n-id=\"last_page\"></menuitem>\\r\\n                    <menuitem id=\"contextPageRotateCw\" label=\"Rotate Clockwise\"\\r\\n                              data-l10n-id=\"page_rotate_cw\"></menuitem>\\r\\n                    <menuitem id=\"contextPageRotateCcw\" label=\"Rotate Counter-Clockwise\"\\r\\n                              data-l10n-id=\"page_rotate_ccw\"></menuitem>\\r\\n                </menu>\\r\\n\\r\\n                <div id=\"viewerContainer\" tabindex=\"0\">\\r\\n                    <div id=\"viewer\" class=\"pdfViewer\"></div>\\r\\n                </div>\\r\\n\\r\\n                <div id=\"errorWrapper\" hidden=\\'true\\'>\\r\\n                    <div id=\"errorMessageLeft\">\\r\\n                        <span id=\"errorMessage\"></span>\\r\\n                        <button id=\"errorShowMore\" data-l10n-id=\"error_more_info\">\\r\\n                            More Information\\r\\n                        </button>\\r\\n                        <button id=\"errorShowLess\" data-l10n-id=\"error_less_info\" hidden=\\'true\\'>\\r\\n                            Less Information\\r\\n                        </button>\\r\\n                    </div>\\r\\n                    <div id=\"errorMessageRight\">\\r\\n                        <button id=\"errorClose\" data-l10n-id=\"error_close\">\\r\\n                            Close\\r\\n                        </button>\\r\\n                    </div>\\r\\n                    <div class=\"clearBoth\"></div>\\r\\n                    <textarea id=\"errorMoreInfo\" hidden=\\'true\\' readonly=\"readonly\"></textarea>\\r\\n                </div>\\r\\n            </div> <!-- mainContainer -->\\r\\n\\r\\n            <div id=\"overlayContainer\" class=\"hidden\">\\r\\n                <div id=\"passwordOverlay\" class=\"container hidden\">\\r\\n                    <div class=\"dialog\">\\r\\n                        <div class=\"row\">\\r\\n                            <p id=\"passwordText\" data-l10n-id=\"password_label\">Enter the password to open this PDF file:</p>\\r\\n                        </div>\\r\\n                        <div class=\"row\">\\r\\n                            <input type=\"password\" id=\"password\" class=\"toolbarField\">\\r\\n                        </div>\\r\\n                        <div class=\"buttonRow\">\\r\\n                            <button id=\"passwordCancel\" class=\"overlayButton\"><span data-l10n-id=\"password_cancel\">Cancel</span></button>\\r\\n                            <button id=\"passwordSubmit\" class=\"overlayButton\"><span data-l10n-id=\"password_ok\">OK</span></button>\\r\\n                        </div>\\r\\n                    </div>\\r\\n                </div>\\r\\n                <div id=\"documentPropertiesOverlay\" class=\"container hidden\">\\r\\n                    <div class=\"dialog\">\\r\\n                        <div class=\"row\">\\r\\n                            <span data-l10n-id=\"document_properties_file_name\">File name:</span> <p id=\"fileNameField\">-</p>\\r\\n                        </div>\\r\\n                        <div class=\"row\">\\r\\n                            <span data-l10n-id=\"document_properties_file_size\">File size:</span> <p id=\"fileSizeField\">-</p>\\r\\n                        </div>\\r\\n                        <div class=\"separator\"></div>\\r\\n                        <div class=\"row\">\\r\\n                            <span data-l10n-id=\"document_properties_title\">Title:</span> <p id=\"titleField\">-</p>\\r\\n                        </div>\\r\\n                        <div class=\"row\">\\r\\n                            <span data-l10n-id=\"document_properties_author\">Author:</span> <p id=\"authorField\">-</p>\\r\\n                        </div>\\r\\n                        <div class=\"row\">\\r\\n                            <span data-l10n-id=\"document_properties_subject\">Subject:</span> <p id=\"subjectField\">-</p>\\r\\n                        </div>\\r\\n                        <div class=\"row\">\\r\\n                            <span data-l10n-id=\"document_properties_keywords\">Keywords:</span> <p id=\"keywordsField\">-</p>\\r\\n                        </div>\\r\\n                        <div class=\"row\">\\r\\n                            <span data-l10n-id=\"document_properties_creation_date\">Creation Date:</span> <p id=\"creationDateField\">-</p>\\r\\n                        </div>\\r\\n                        <div class=\"row\">\\r\\n                            <span data-l10n-id=\"document_properties_modification_date\">Modification Date:</span> <p id=\"modificationDateField\">-</p>\\r\\n                        </div>\\r\\n                        <div class=\"row\">\\r\\n                            <span data-l10n-id=\"document_properties_creator\">Creator:</span> <p id=\"creatorField\">-</p>\\r\\n                        </div>\\r\\n                        <div class=\"separator\"></div>\\r\\n                        <div class=\"row\">\\r\\n                            <span data-l10n-id=\"document_properties_producer\">PDF Producer:</span> <p id=\"producerField\">-</p>\\r\\n                        </div>\\r\\n                        <div class=\"row\">\\r\\n                            <span data-l10n-id=\"document_properties_version\">PDF Version:</span> <p id=\"versionField\">-</p>\\r\\n                        </div>\\r\\n                        <div class=\"row\">\\r\\n                            <span data-l10n-id=\"document_properties_page_count\">Page Count:</span> <p id=\"pageCountField\">-</p>\\r\\n                        </div>\\r\\n                        <div class=\"row\">\\r\\n                            <span data-l10n-id=\"document_properties_page_size\">Page Size:</span> <p id=\"pageSizeField\">-</p>\\r\\n                        </div>\\r\\n                        <div class=\"buttonRow\">\\r\\n                            <button id=\"documentPropertiesClose\" class=\"overlayButton\"><span data-l10n-id=\"document_properties_close\">Close</span></button>\\r\\n                        </div>\\r\\n                    </div>\\r\\n                </div>\\r\\n                <div id=\"printServiceOverlay\" class=\"container hidden\">\\r\\n                    <div class=\"dialog\">\\r\\n                        <div class=\"row\">\\r\\n                            <span data-l10n-id=\"print_progress_message\">Preparing document for printing?</span>\\r\\n                        </div>\\r\\n                        <div class=\"row\">\\r\\n                            <progress value=\"0\" max=\"100\"></progress>\\r\\n                            <span data-l10n-id=\"print_progress_percent\" data-l10n-args=\\'{ \"progress\": 0 }\\' class=\"relative-progress\">0%</span>\\r\\n                        </div>\\r\\n                        <div class=\"buttonRow\">\\r\\n                            <button id=\"printCancel\" class=\"overlayButton\"><span data-l10n-id=\"print_progress_close\">Cancel</span></button>\\r\\n                        </div>\\r\\n                    </div>\\r\\n                </div>\\r\\n            </div>  <!-- overlayContainer -->\\r\\n\\r\\n        </div> <!-- outerContainer -->\\r\\n        <div id=\"printContainer\"></div>\\r\\n        \\r\\n        <script src=\"/js/pdfjs-dist/build/pdf.js\"></script>\\r\\n        <script src=\"/js/pdfjs/viewer.js\"></script>\\r\\n    </body>\\r\\n\\r\\n</html>'"
      ]
     },
     "execution_count": 66,
     "metadata": {},
     "output_type": "execute_result"
    }
   ],
   "source": [
    "resposta.content"
   ]
  },
  {
   "cell_type": "code",
   "execution_count": 67,
   "metadata": {},
   "outputs": [],
   "source": [
    "soup_pdf_tce = BeautifulSoup(resposta.content, 'html.parser')"
   ]
  },
  {
   "cell_type": "code",
   "execution_count": 172,
   "metadata": {},
   "outputs": [],
   "source": [
    "variavel = soup_pdf_tce.find(id=\"outerContainer\")"
   ]
  },
  {
   "cell_type": "code",
   "execution_count": 175,
   "metadata": {},
   "outputs": [
    {
     "ename": "IndexError",
     "evalue": "no such group",
     "output_type": "error",
     "traceback": [
      "\u001b[0;31m---------------------------------------------------------------------------\u001b[0m",
      "\u001b[0;31mIndexError\u001b[0m                                Traceback (most recent call last)",
      "\u001b[0;32m<ipython-input-175-f0da9006e118>\u001b[0m in \u001b[0;36m<module>\u001b[0;34m\u001b[0m\n\u001b[1;32m      1\u001b[0m \u001b[0mextrair_mes\u001b[0m \u001b[0;34m=\u001b[0m \u001b[0mre\u001b[0m\u001b[0;34m.\u001b[0m\u001b[0mcompile\u001b[0m\u001b[0;34m(\u001b[0m\u001b[0;34m'value=\"(.*?)\"'\u001b[0m\u001b[0;34m)\u001b[0m\u001b[0;34m.\u001b[0m\u001b[0msearch\u001b[0m\u001b[0;34m(\u001b[0m\u001b[0mstr\u001b[0m\u001b[0;34m(\u001b[0m\u001b[0mvariavel\u001b[0m\u001b[0;34m)\u001b[0m\u001b[0;34m)\u001b[0m\u001b[0;34m\u001b[0m\u001b[0;34m\u001b[0m\u001b[0m\n\u001b[0;32m----> 2\u001b[0;31m \u001b[0mmes\u001b[0m \u001b[0;34m=\u001b[0m \u001b[0mextrair_mes\u001b[0m\u001b[0;34m.\u001b[0m\u001b[0mgroup\u001b[0m\u001b[0;34m(\u001b[0m\u001b[0;36m2\u001b[0m\u001b[0;34m)\u001b[0m\u001b[0;34m\u001b[0m\u001b[0;34m\u001b[0m\u001b[0m\n\u001b[0m\u001b[1;32m      3\u001b[0m \u001b[0mmes\u001b[0m\u001b[0;34m\u001b[0m\u001b[0;34m\u001b[0m\u001b[0m\n",
      "\u001b[0;31mIndexError\u001b[0m: no such group"
     ]
    }
   ],
   "source": [
    "extrair_mes = re.compile('value=\"(.*?)\"').search(str(variavel))\n",
    "mes = extrair_mes.group(2)\n",
    "mes"
   ]
  },
  {
   "cell_type": "code",
   "execution_count": 184,
   "metadata": {},
   "outputs": [
    {
     "data": {
      "text/plain": [
       "'1502'"
      ]
     },
     "execution_count": 184,
     "metadata": {},
     "output_type": "execute_result"
    }
   ],
   "source": [
    "extrair_numero_diario= re.compile('id=\"numero\" name=\"numero\" type=\"hidden\" value=\"(.*?)\"').search(str(variavel))\n",
    "numero_diario = extrair_numero_diario.group(1)\n",
    "numero_diario"
   ]
  },
  {
   "cell_type": "code",
   "execution_count": 181,
   "metadata": {},
   "outputs": [
    {
     "data": {
      "text/plain": [
       "<div id=\"outerContainer\">\n",
       "<input class=\"mes\" data-mes=\"12\" id=\"mes\" name=\"mes\" type=\"hidden\" value=\"12\"/>\n",
       "<input id=\"ano\" name=\"ano\" type=\"hidden\" value=\"2018\"/>\n",
       "<input id=\"numero\" name=\"numero\" type=\"hidden\" value=\"1502\"/>\n",
       "<div id=\"sidebarContainer\">\n",
       "<div id=\"toolbarSidebar\">\n",
       "<div class=\"splitToolbarButton toggled\">\n",
       "<button class=\"toolbarButton toggled\" data-l10n-id=\"thumbs\" id=\"viewThumbnail\" tabindex=\"2\" title=\"Show Thumbnails\">\n",
       "<span data-l10n-id=\"thumbs_label\">Thumbnails</span>\n",
       "</button>\n",
       "<button class=\"toolbarButton\" data-l10n-id=\"document_outline\" id=\"viewOutline\" tabindex=\"3\" title=\"Show Document Outline (double-click to expand/collapse all items)\">\n",
       "<span data-l10n-id=\"document_outline_label\">Document Outline</span>\n",
       "</button>\n",
       "<button class=\"toolbarButton\" data-l10n-id=\"attachments\" id=\"viewAttachments\" tabindex=\"4\" title=\"Show Attachments\">\n",
       "<span data-l10n-id=\"attachments_label\">Attachments</span>\n",
       "</button>\n",
       "</div>\n",
       "</div>\n",
       "<div id=\"sidebarContent\">\n",
       "<div id=\"thumbnailView\">\n",
       "</div>\n",
       "<div class=\"hidden\" id=\"outlineView\">\n",
       "</div>\n",
       "<div class=\"hidden\" id=\"attachmentsView\">\n",
       "</div>\n",
       "</div>\n",
       "<div class=\"hidden\" id=\"sidebarResizer\"></div>\n",
       "</div> <!-- sidebarContainer -->\n",
       "<div id=\"mainContainer\">\n",
       "<div class=\"findbar hidden doorHanger\" id=\"findbar\">\n",
       "<div id=\"findbarInputContainer\">\n",
       "<input class=\"toolbarField\" data-l10n-id=\"find_input\" id=\"findInput\" placeholder=\"Find in document?\" tabindex=\"91\" title=\"Find\"/>\n",
       "<div class=\"splitToolbarButton\">\n",
       "<button class=\"toolbarButton findPrevious\" data-l10n-id=\"find_previous\" id=\"findPrevious\" tabindex=\"92\" title=\"Find the previous occurrence of the phrase\">\n",
       "<span data-l10n-id=\"find_previous_label\">Previous</span>\n",
       "</button>\n",
       "<div class=\"splitToolbarButtonSeparator\"></div>\n",
       "<button class=\"toolbarButton findNext\" data-l10n-id=\"find_next\" id=\"findNext\" tabindex=\"93\" title=\"Find the next occurrence of the phrase\">\n",
       "<span data-l10n-id=\"find_next_label\">Next</span>\n",
       "</button>\n",
       "</div>\n",
       "</div>\n",
       "<div id=\"findbarOptionsContainer\">\n",
       "<input class=\"toolbarField\" id=\"findHighlightAll\" tabindex=\"94\" type=\"checkbox\"/>\n",
       "<label class=\"toolbarLabel\" data-l10n-id=\"find_highlight\" for=\"findHighlightAll\">Highlight all</label>\n",
       "<input class=\"toolbarField\" id=\"findMatchCase\" tabindex=\"95\" type=\"checkbox\"/>\n",
       "<label class=\"toolbarLabel\" data-l10n-id=\"find_match_case_label\" for=\"findMatchCase\">Match case</label>\n",
       "<span class=\"toolbarLabel hidden\" id=\"findResultsCount\"></span>\n",
       "</div>\n",
       "<div id=\"findbarMessageContainer\">\n",
       "<span class=\"toolbarLabel\" id=\"findMsg\"></span>\n",
       "</div>\n",
       "</div> <!-- findbar -->\n",
       "<div class=\"secondaryToolbar hidden doorHangerRight\" id=\"secondaryToolbar\">\n",
       "<div id=\"secondaryToolbarButtonContainer\">\n",
       "<button class=\"secondaryToolbarButton presentationMode visibleLargeView\" data-l10n-id=\"presentation_mode\" id=\"secondaryPresentationMode\" tabindex=\"51\" title=\"Switch to Presentation Mode\">\n",
       "<span data-l10n-id=\"presentation_mode_label\">Presentation Mode</span>\n",
       "</button>\n",
       "<button class=\"secondaryToolbarButton openFile visibleLargeView\" data-l10n-id=\"open_file\" id=\"secondaryOpenFile\" tabindex=\"52\" title=\"Open File\">\n",
       "<span data-l10n-id=\"open_file_label\">Open</span>\n",
       "</button>\n",
       "<button class=\"secondaryToolbarButton print visibleMediumView\" data-l10n-id=\"print\" id=\"secondaryPrint\" tabindex=\"53\" title=\"Print\">\n",
       "<span data-l10n-id=\"print_label\">Print</span>\n",
       "</button>\n",
       "<button class=\"secondaryToolbarButton download visibleMediumView\" data-l10n-id=\"download\" id=\"secondaryDownload\" tabindex=\"54\" title=\"Download\">\n",
       "<span data-l10n-id=\"download_label\">Download</span>\n",
       "</button>\n",
       "<a class=\"secondaryToolbarButton bookmark visibleSmallView\" data-l10n-id=\"bookmark\" href=\"#\" id=\"secondaryViewBookmark\" tabindex=\"55\" title=\"Current view (copy or open in new window)\">\n",
       "<span data-l10n-id=\"bookmark_label\">Current View</span>\n",
       "</a>\n",
       "<div class=\"horizontalToolbarSeparator visibleLargeView\"></div>\n",
       "<button class=\"secondaryToolbarButton firstPage\" data-l10n-id=\"first_page\" id=\"firstPage\" tabindex=\"56\" title=\"Go to First Page\">\n",
       "<span data-l10n-id=\"first_page_label\">Go to First Page</span>\n",
       "</button>\n",
       "<button class=\"secondaryToolbarButton lastPage\" data-l10n-id=\"last_page\" id=\"lastPage\" tabindex=\"57\" title=\"Go to Last Page\">\n",
       "<span data-l10n-id=\"last_page_label\">Go to Last Page</span>\n",
       "</button>\n",
       "<div class=\"horizontalToolbarSeparator\"></div>\n",
       "<button class=\"secondaryToolbarButton rotateCw\" data-l10n-id=\"page_rotate_cw\" id=\"pageRotateCw\" tabindex=\"58\" title=\"Rotate Clockwise\">\n",
       "<span data-l10n-id=\"page_rotate_cw_label\">Rotate Clockwise</span>\n",
       "</button>\n",
       "<button class=\"secondaryToolbarButton rotateCcw\" data-l10n-id=\"page_rotate_ccw\" id=\"pageRotateCcw\" tabindex=\"59\" title=\"Rotate Counterclockwise\">\n",
       "<span data-l10n-id=\"page_rotate_ccw_label\">Rotate Counterclockwise</span>\n",
       "</button>\n",
       "<div class=\"horizontalToolbarSeparator\"></div>\n",
       "<button class=\"secondaryToolbarButton selectTool toggled\" data-l10n-id=\"cursor_text_select_tool\" id=\"cursorSelectTool\" tabindex=\"60\" title=\"Enable Text Selection Tool\">\n",
       "<span data-l10n-id=\"cursor_text_select_tool_label\">Text Selection Tool</span>\n",
       "</button>\n",
       "<button class=\"secondaryToolbarButton handTool\" data-l10n-id=\"cursor_hand_tool\" id=\"cursorHandTool\" tabindex=\"61\" title=\"Enable Hand Tool\">\n",
       "<span data-l10n-id=\"cursor_hand_tool_label\">Hand Tool</span>\n",
       "</button>\n",
       "<div class=\"horizontalToolbarSeparator\"></div>\n",
       "<button class=\"secondaryToolbarButton documentProperties\" data-l10n-id=\"document_properties\" id=\"documentProperties\" tabindex=\"62\" title=\"Document Properties?\">\n",
       "<span data-l10n-id=\"document_properties_label\">Document Properties?</span>\n",
       "</button>\n",
       "</div>\n",
       "</div> <!-- secondaryToolbar -->\n",
       "<div class=\"toolbar\">\n",
       "<div id=\"toolbarContainer\">\n",
       "<div id=\"toolbarViewer\">\n",
       "<div id=\"toolbarViewerLeft\">\n",
       "<button class=\"toolbarButton\" data-l10n-id=\"toggle_sidebar\" id=\"sidebarToggle\" tabindex=\"11\" title=\"Toggle Sidebar\">\n",
       "<span data-l10n-id=\"toggle_sidebar_label\">Toggle Sidebar</span>\n",
       "</button>\n",
       "<div class=\"toolbarButtonSpacer\"></div>\n",
       "<button class=\"toolbarButton\" data-l10n-id=\"findbar\" id=\"viewFind\" tabindex=\"12\" title=\"Find in Document\">\n",
       "<span data-l10n-id=\"findbar_label\">Find</span>\n",
       "</button>\n",
       "<div class=\"splitToolbarButton hiddenSmallView\">\n",
       "<button class=\"toolbarButton pageUp\" data-l10n-id=\"previous\" id=\"previous\" tabindex=\"13\" title=\"Previous Page\">\n",
       "<span data-l10n-id=\"previous_label\">Previous</span>\n",
       "</button>\n",
       "<div class=\"splitToolbarButtonSeparator\"></div>\n",
       "<button class=\"toolbarButton pageDown\" data-l10n-id=\"next\" id=\"next\" tabindex=\"14\" title=\"Next Page\">\n",
       "<span data-l10n-id=\"next_label\">Next</span>\n",
       "</button>\n",
       "</div>\n",
       "<input class=\"toolbarField pageNumber\" data-l10n-id=\"page\" id=\"pageNumber\" min=\"1\" size=\"4\" tabindex=\"15\" title=\"Page\" type=\"number\" value=\"1\"/>\n",
       "<span class=\"toolbarLabel\" id=\"numPages\"></span>\n",
       "</div>\n",
       "<div id=\"toolbarViewerRight\">\n",
       "<button class=\"toolbarButton presentationMode hiddenLargeView\" data-l10n-id=\"presentation_mode\" id=\"presentationMode\" tabindex=\"31\" title=\"Switch to Presentation Mode\">\n",
       "<span data-l10n-id=\"presentation_mode_label\">Presentation Mode</span>\n",
       "</button>\n",
       "<button class=\"toolbarButton openFile hiddenLargeView\" data-l10n-id=\"open_file\" id=\"openFile\" tabindex=\"32\" title=\"Open File\">\n",
       "<span data-l10n-id=\"open_file_label\">Open</span>\n",
       "</button>\n",
       "<button class=\"toolbarButton print hiddenMediumView\" data-l10n-id=\"print\" id=\"print\" tabindex=\"33\" title=\"Print\">\n",
       "<span data-l10n-id=\"print_label\">Print</span>\n",
       "</button>\n",
       "<button class=\"toolbarButton download hiddenMediumView\" data-l10n-id=\"download\" id=\"download\" tabindex=\"34\" title=\"Download\">\n",
       "<span data-l10n-id=\"download_label\">Download</span>\n",
       "</button>\n",
       "<a class=\"toolbarButton bookmark hiddenSmallView\" data-l10n-id=\"bookmark\" href=\"#\" id=\"viewBookmark\" tabindex=\"35\" title=\"Current view (copy or open in new window)\">\n",
       "<span data-l10n-id=\"bookmark_label\">Current View</span>\n",
       "</a>\n",
       "<div class=\"verticalToolbarSeparator hiddenSmallView\"></div>\n",
       "<button class=\"toolbarButton\" data-l10n-id=\"tools\" id=\"secondaryToolbarToggle\" tabindex=\"36\" title=\"Tools\">\n",
       "<span data-l10n-id=\"tools_label\">Tools</span>\n",
       "</button>\n",
       "</div>\n",
       "<div id=\"toolbarViewerMiddle\">\n",
       "<div class=\"splitToolbarButton\">\n",
       "<button class=\"toolbarButton zoomOut\" data-l10n-id=\"zoom_out\" id=\"zoomOut\" tabindex=\"21\" title=\"Zoom Out\">\n",
       "<span data-l10n-id=\"zoom_out_label\">Zoom Out</span>\n",
       "</button>\n",
       "<div class=\"splitToolbarButtonSeparator\"></div>\n",
       "<button class=\"toolbarButton zoomIn\" data-l10n-id=\"zoom_in\" id=\"zoomIn\" tabindex=\"22\" title=\"Zoom In\">\n",
       "<span data-l10n-id=\"zoom_in_label\">Zoom In</span>\n",
       "</button>\n",
       "</div>\n",
       "<span class=\"dropdownToolbarButton\" id=\"scaleSelectContainer\">\n",
       "<select data-l10n-id=\"zoom\" id=\"scaleSelect\" tabindex=\"23\" title=\"Zoom\">\n",
       "<option data-l10n-id=\"page_scale_auto\" id=\"pageAutoOption\" selected=\"selected\" title=\"\" value=\"auto\">Automatic Zoom</option>\n",
       "<option data-l10n-id=\"page_scale_actual\" id=\"pageActualOption\" title=\"\" value=\"page-actual\">Actual Size</option>\n",
       "<option data-l10n-id=\"page_scale_fit\" id=\"pageFitOption\" title=\"\" value=\"page-fit\">Page Fit</option>\n",
       "<option data-l10n-id=\"page_scale_width\" id=\"pageWidthOption\" title=\"\" value=\"page-width\">Page Width</option>\n",
       "<option disabled=\"disabled\" hidden=\"true\" id=\"customScaleOption\" title=\"\" value=\"custom\"></option>\n",
       "<option data-l10n-args='{ \"scale\": 50 }' data-l10n-id=\"page_scale_percent\" title=\"\" value=\"0.5\">50%</option>\n",
       "<option data-l10n-args='{ \"scale\": 75 }' data-l10n-id=\"page_scale_percent\" title=\"\" value=\"0.75\">75%</option>\n",
       "<option data-l10n-args='{ \"scale\": 100 }' data-l10n-id=\"page_scale_percent\" title=\"\" value=\"1\">100%</option>\n",
       "<option data-l10n-args='{ \"scale\": 125 }' data-l10n-id=\"page_scale_percent\" title=\"\" value=\"1.25\">125%</option>\n",
       "<option data-l10n-args='{ \"scale\": 150 }' data-l10n-id=\"page_scale_percent\" title=\"\" value=\"1.5\">150%</option>\n",
       "<option data-l10n-args='{ \"scale\": 200 }' data-l10n-id=\"page_scale_percent\" title=\"\" value=\"2\">200%</option>\n",
       "<option data-l10n-args='{ \"scale\": 300 }' data-l10n-id=\"page_scale_percent\" title=\"\" value=\"3\">300%</option>\n",
       "<option data-l10n-args='{ \"scale\": 400 }' data-l10n-id=\"page_scale_percent\" title=\"\" value=\"4\">400%</option>\n",
       "</select>\n",
       "</span>\n",
       "</div>\n",
       "</div>\n",
       "<div id=\"loadingBar\">\n",
       "<div class=\"progress\">\n",
       "<div class=\"glimmer\">\n",
       "</div>\n",
       "</div>\n",
       "</div>\n",
       "</div>\n",
       "</div>\n",
       "<menu id=\"viewerContextMenu\" type=\"context\">\n",
       "<menuitem data-l10n-id=\"first_page\" id=\"contextFirstPage\" label=\"First Page\"/>\n",
       "<menuitem data-l10n-id=\"last_page\" id=\"contextLastPage\" label=\"Last Page\"/>\n",
       "<menuitem data-l10n-id=\"page_rotate_cw\" id=\"contextPageRotateCw\" label=\"Rotate Clockwise\"/>\n",
       "<menuitem data-l10n-id=\"page_rotate_ccw\" id=\"contextPageRotateCcw\" label=\"Rotate Counter-Clockwise\"/>\n",
       "</menu>\n",
       "<div id=\"viewerContainer\" tabindex=\"0\">\n",
       "<div class=\"pdfViewer\" id=\"viewer\"></div>\n",
       "</div>\n",
       "<div hidden=\"true\" id=\"errorWrapper\">\n",
       "<div id=\"errorMessageLeft\">\n",
       "<span id=\"errorMessage\"></span>\n",
       "<button data-l10n-id=\"error_more_info\" id=\"errorShowMore\">\n",
       "                            More Information\n",
       "                        </button>\n",
       "<button data-l10n-id=\"error_less_info\" hidden=\"true\" id=\"errorShowLess\">\n",
       "                            Less Information\n",
       "                        </button>\n",
       "</div>\n",
       "<div id=\"errorMessageRight\">\n",
       "<button data-l10n-id=\"error_close\" id=\"errorClose\">\n",
       "                            Close\n",
       "                        </button>\n",
       "</div>\n",
       "<div class=\"clearBoth\"></div>\n",
       "<textarea hidden=\"true\" id=\"errorMoreInfo\" readonly=\"readonly\"></textarea>\n",
       "</div>\n",
       "</div> <!-- mainContainer -->\n",
       "<div class=\"hidden\" id=\"overlayContainer\">\n",
       "<div class=\"container hidden\" id=\"passwordOverlay\">\n",
       "<div class=\"dialog\">\n",
       "<div class=\"row\">\n",
       "<p data-l10n-id=\"password_label\" id=\"passwordText\">Enter the password to open this PDF file:</p>\n",
       "</div>\n",
       "<div class=\"row\">\n",
       "<input class=\"toolbarField\" id=\"password\" type=\"password\"/>\n",
       "</div>\n",
       "<div class=\"buttonRow\">\n",
       "<button class=\"overlayButton\" id=\"passwordCancel\"><span data-l10n-id=\"password_cancel\">Cancel</span></button>\n",
       "<button class=\"overlayButton\" id=\"passwordSubmit\"><span data-l10n-id=\"password_ok\">OK</span></button>\n",
       "</div>\n",
       "</div>\n",
       "</div>\n",
       "<div class=\"container hidden\" id=\"documentPropertiesOverlay\">\n",
       "<div class=\"dialog\">\n",
       "<div class=\"row\">\n",
       "<span data-l10n-id=\"document_properties_file_name\">File name:</span> <p id=\"fileNameField\">-</p>\n",
       "</div>\n",
       "<div class=\"row\">\n",
       "<span data-l10n-id=\"document_properties_file_size\">File size:</span> <p id=\"fileSizeField\">-</p>\n",
       "</div>\n",
       "<div class=\"separator\"></div>\n",
       "<div class=\"row\">\n",
       "<span data-l10n-id=\"document_properties_title\">Title:</span> <p id=\"titleField\">-</p>\n",
       "</div>\n",
       "<div class=\"row\">\n",
       "<span data-l10n-id=\"document_properties_author\">Author:</span> <p id=\"authorField\">-</p>\n",
       "</div>\n",
       "<div class=\"row\">\n",
       "<span data-l10n-id=\"document_properties_subject\">Subject:</span> <p id=\"subjectField\">-</p>\n",
       "</div>\n",
       "<div class=\"row\">\n",
       "<span data-l10n-id=\"document_properties_keywords\">Keywords:</span> <p id=\"keywordsField\">-</p>\n",
       "</div>\n",
       "<div class=\"row\">\n",
       "<span data-l10n-id=\"document_properties_creation_date\">Creation Date:</span> <p id=\"creationDateField\">-</p>\n",
       "</div>\n",
       "<div class=\"row\">\n",
       "<span data-l10n-id=\"document_properties_modification_date\">Modification Date:</span> <p id=\"modificationDateField\">-</p>\n",
       "</div>\n",
       "<div class=\"row\">\n",
       "<span data-l10n-id=\"document_properties_creator\">Creator:</span> <p id=\"creatorField\">-</p>\n",
       "</div>\n",
       "<div class=\"separator\"></div>\n",
       "<div class=\"row\">\n",
       "<span data-l10n-id=\"document_properties_producer\">PDF Producer:</span> <p id=\"producerField\">-</p>\n",
       "</div>\n",
       "<div class=\"row\">\n",
       "<span data-l10n-id=\"document_properties_version\">PDF Version:</span> <p id=\"versionField\">-</p>\n",
       "</div>\n",
       "<div class=\"row\">\n",
       "<span data-l10n-id=\"document_properties_page_count\">Page Count:</span> <p id=\"pageCountField\">-</p>\n",
       "</div>\n",
       "<div class=\"row\">\n",
       "<span data-l10n-id=\"document_properties_page_size\">Page Size:</span> <p id=\"pageSizeField\">-</p>\n",
       "</div>\n",
       "<div class=\"buttonRow\">\n",
       "<button class=\"overlayButton\" id=\"documentPropertiesClose\"><span data-l10n-id=\"document_properties_close\">Close</span></button>\n",
       "</div>\n",
       "</div>\n",
       "</div>\n",
       "<div class=\"container hidden\" id=\"printServiceOverlay\">\n",
       "<div class=\"dialog\">\n",
       "<div class=\"row\">\n",
       "<span data-l10n-id=\"print_progress_message\">Preparing document for printing?</span>\n",
       "</div>\n",
       "<div class=\"row\">\n",
       "<progress max=\"100\" value=\"0\"></progress>\n",
       "<span class=\"relative-progress\" data-l10n-args='{ \"progress\": 0 }' data-l10n-id=\"print_progress_percent\">0%</span>\n",
       "</div>\n",
       "<div class=\"buttonRow\">\n",
       "<button class=\"overlayButton\" id=\"printCancel\"><span data-l10n-id=\"print_progress_close\">Cancel</span></button>\n",
       "</div>\n",
       "</div>\n",
       "</div>\n",
       "</div> <!-- overlayContainer -->\n",
       "</div>"
      ]
     },
     "execution_count": 181,
     "metadata": {},
     "output_type": "execute_result"
    }
   ],
   "source": [
    "variavel "
   ]
  },
  {
   "cell_type": "code",
   "execution_count": 177,
   "metadata": {},
   "outputs": [
    {
     "data": {
      "text/plain": [
       "<re.Match object; span=(93, 103), match='value=\"12\"'>"
      ]
     },
     "execution_count": 177,
     "metadata": {},
     "output_type": "execute_result"
    }
   ],
   "source": [
    "extrair_mes"
   ]
  },
  {
   "cell_type": "code",
   "execution_count": 45,
   "metadata": {},
   "outputs": [],
   "source": [
    "text_p_url_pdf_diario = p_url_pdf_diario.text"
   ]
  },
  {
   "cell_type": "code",
   "execution_count": 47,
   "metadata": {},
   "outputs": [],
   "source": [
    "url_pdf_diario = text_p_url_pdf_diario.split(' ')"
   ]
  },
  {
   "cell_type": "code",
   "execution_count": 48,
   "metadata": {},
   "outputs": [
    {
     "data": {
      "text/plain": [
       "['The',\n",
       " 'requested',\n",
       " 'URL',\n",
       " '/diario/preview/numero_diario_oficial/1971.pdf',\n",
       " 'was',\n",
       " 'not',\n",
       " 'found',\n",
       " 'on',\n",
       " 'this',\n",
       " 'server.']"
      ]
     },
     "execution_count": 48,
     "metadata": {},
     "output_type": "execute_result"
    }
   ],
   "source": [
    "url_pdf_diario"
   ]
  },
  {
   "cell_type": "code",
   "execution_count": 164,
   "metadata": {},
   "outputs": [
    {
     "name": "stdout",
     "output_type": "stream",
     "text": [
      "1526610106833.UG2TCP2ZiJ9HKXhlrlgybcdEBB0=\n"
     ]
    }
   ],
   "source": [
    "import re\n",
    "\n",
    "html = '<input type=\"hidden\" name=\"authURL\" value=\"1526610106833.UG2TCP2ZiJ9HKXhlrlgybcdEBB0=\" data-reactid=\"37\"/>'\n",
    "\n",
    "match = re.compile('name=\"authURL\" value=\"(.*?)\"').search(html)\n",
    "if match == None:\n",
    "  print('Não encontrado')\n",
    "else:\n",
    "    pass\n",
    "    \n",
    "print(match.group(1)) # 1526610106833.UG2TCP2ZiJ9HKXhlrlgybcdEBB0"
   ]
  },
  {
   "cell_type": "markdown",
   "metadata": {},
   "source": [
    "Fonte :\n",
    "   * https://pt.stackoverflow.com/questions/299866/obter-value-de-input\n",
    "   * https://docs.python.org/pt-br/3.8/howto/regex.html#match-versus-search\n",
    "    "
   ]
  },
  {
   "cell_type": "code",
   "execution_count": null,
   "metadata": {},
   "outputs": [],
   "source": []
  }
 ],
 "metadata": {
  "kernelspec": {
   "display_name": "Python 3",
   "language": "python",
   "name": "python3"
  },
  "language_info": {
   "codemirror_mode": {
    "name": "ipython",
    "version": 3
   },
   "file_extension": ".py",
   "mimetype": "text/x-python",
   "name": "python",
   "nbconvert_exporter": "python",
   "pygments_lexer": "ipython3",
   "version": "3.7.6"
  }
 },
 "nbformat": 4,
 "nbformat_minor": 4
}
